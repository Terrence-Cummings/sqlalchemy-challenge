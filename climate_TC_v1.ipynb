{
 "cells": [
  {
   "cell_type": "markdown",
   "metadata": {},
   "source": [
    "# SQLalchemy Homework - Surf's Up! - Terrence Cummings"
   ]
  },
  {
   "cell_type": "code",
   "execution_count": 20,
   "metadata": {},
   "outputs": [],
   "source": [
    "#Dependencies, libraries, and imports\n",
    "from matplotlib import style\n",
    "style.use('fivethirtyeight')\n",
    "import matplotlib.pyplot as plt\n",
    "import numpy as np\n",
    "import pandas as pd\n",
    "import datetime as dt\n",
    "\n",
    "#SQLalchemy libraries and functions\n",
    "import sqlalchemy\n",
    "from sqlalchemy.ext.automap import automap_base\n",
    "from sqlalchemy.orm import Session\n",
    "from sqlalchemy import create_engine, func, inspect, MetaData\n",
    "from sqlalchemy import Column, Integer, String, Float\n",
    "from sqlalchemy.ext.declarative import declarative_base\n",
    "\n",
    "#VROOM, VROOM!\n",
    "engine = create_engine(\"sqlite:///Resources/hawaii.sqlite\")\n"
   ]
  },
  {
   "cell_type": "markdown",
   "metadata": {},
   "source": [
    "# SET FUTURE TRIP START AND END DATES\n",
    "## NOTE: This isn't used until the Bonus Challenge section"
   ]
  },
  {
   "cell_type": "code",
   "execution_count": 21,
   "metadata": {},
   "outputs": [],
   "source": [
    "#Future trip start date\n",
    "trip_start = '2018-01-01'\n",
    "#Future trip end date\n",
    "trip_end = '2018-01-07'\n"
   ]
  },
  {
   "cell_type": "markdown",
   "metadata": {},
   "source": [
    "## Step 1 - Climate Analysis and Observation\n",
    "1. Inspect tables\n",
    "2. Automap and assign to classes\n",
    "3. Save CSV's for checking"
   ]
  },
  {
   "cell_type": "code",
   "execution_count": 22,
   "metadata": {},
   "outputs": [
    {
     "name": "stdout",
     "output_type": "stream",
     "text": [
      "\n",
      "Table: measurement\n",
      "id INTEGER\n",
      "station TEXT\n",
      "date TEXT\n",
      "prcp FLOAT\n",
      "tobs FLOAT\n",
      "\n",
      "Table: station\n",
      "id INTEGER\n",
      "station TEXT\n",
      "name TEXT\n",
      "latitude FLOAT\n",
      "longitude FLOAT\n",
      "elevation FLOAT\n"
     ]
    }
   ],
   "source": [
    "#Use inspector find table and columns in database\n",
    "inspector = inspect(engine)\n",
    "tables_found = inspector.get_table_names()\n",
    "num_tables_found = len(tables_found)\n",
    "\n",
    "for table in tables_found:\n",
    "    columns = inspector.get_columns(table)\n",
    "    print(\"\")\n",
    "    print(\"Table: \"+table)\n",
    "    for column in columns:\n",
    "        print(column[\"name\"], column[\"type\"])\n",
    "    "
   ]
  },
  {
   "cell_type": "code",
   "execution_count": 23,
   "metadata": {},
   "outputs": [
    {
     "name": "stdout",
     "output_type": "stream",
     "text": [
      "['measurement', 'station']\n"
     ]
    }
   ],
   "source": [
    "#Use automap to get table structures and reflect into classes\n",
    "Base = automap_base()\n",
    "Base.prepare(engine, reflect=True)\n",
    "\n",
    "#See what classes have been created. Classes created should match tables found by Inspector\n",
    "classes_created = Base.classes.keys()\n",
    "print(classes_created)\n",
    "\n",
    "#Single variable to represent each Class associated with the automapped Base\n",
    "Measurement = Base.classes.measurement\n",
    "Station = Base.classes.station\n",
    "\n",
    "#Classes are now all setup. Start query session.\n",
    "session = Session(engine)\n",
    "\n",
    "#Write classes to dataframes and csv's for checking\n",
    "measurement_query = session.query(Measurement.id, Measurement.station, Measurement.date, Measurement.prcp, Measurement.tobs)\n",
    "measurement_df = pd.DataFrame(measurement_query, columns = ['id', 'station', 'date', 'prcp', 'tobs'])\n",
    "measurement_df.set_index('id', inplace=True)\n",
    "measurement_df.to_csv('measurement.csv')\n",
    "\n",
    "station_query = session.query(Station.id, Station.station, Station.name, Station.latitude, Station.longitude, Station.elevation)\n",
    "station_df = pd.DataFrame(station_query, columns = ['id', 'station', 'name', 'latitude', 'longitude', 'elevation'])\n",
    "station_df.set_index('id', inplace=True)\n",
    "station_df.to_csv('station.csv')\n"
   ]
  },
  {
   "cell_type": "markdown",
   "metadata": {},
   "source": [
    "## Precipitation Analysis\n",
    "1. Calculate earliest, latest, and year-from-latest dates for precipitation analysis\n",
    "2. Make dataframe of last year's precipitation\n",
    "3. Group by data and take the max precip on each date\n",
    "4. Make bar chart of max precipitation on each day of last year"
   ]
  },
  {
   "cell_type": "code",
   "execution_count": 24,
   "metadata": {
    "tags": [
     "outputPrepend",
     "outputPrepend"
    ]
   },
   "outputs": [],
   "source": [
    "# Design a query to retrieve the last 12 months of precipitation data and plot the results\n",
    "\n",
    "#Find the earliest date in the Measurement table by query. Convert to python dictionary, read date as text, convert to datetime.\n",
    "earliest_date_query = session.query(Measurement.date).order_by(Measurement.date).first()\n",
    "ed_dict=earliest_date_query._asdict()\n",
    "earliest_date = ed_dict['date']\n",
    "earliest_date_dt = dt.datetime.strptime(earliest_date, \"%Y-%m-%d\")\n",
    "\n",
    "#Find the latest date in the Measurement table by query. Convert to python dictionary, read date as text, convert to datetime.\n",
    "latest_date_query = session.query(Measurement.date).order_by(Measurement.date.desc()).first()\n",
    "ld_dict=latest_date_query._asdict()\n",
    "latest_date = ld_dict['date']\n",
    "latest_date_dt = dt.datetime.strptime(latest_date, \"%Y-%m-%d\")\n",
    "\n",
    "# Calculate the date 1 year ago from the latest data point in the database\n",
    "year_ago_latest_dt = latest_date_dt - dt.timedelta(days=365)\n",
    "year_ago_latest = dt.datetime.strftime(year_ago_latest_dt, \"%Y-%m-%d\")\n",
    "\n",
    "#Perform a query to retrieve the date and precipitation over prior year from the latest date\n",
    "date_prcp_query = session.query(Measurement.date, Measurement.prcp).\\\n",
    "    filter(Measurement.date<=latest_date_dt).filter(Measurement.date>=year_ago_latest_dt)\n",
    "\n",
    "#Save the query results as a Pandas DataFrame and set the index to the date column\n",
    "date_prcp_df = pd.DataFrame(date_prcp_query, columns=['Date', 'Precipitation'])\n",
    "date_prcp_df.set_index('Date', inplace=True)\n",
    "\n",
    "#Drop NaN's and sort the dataframe by date\n",
    "date_prcp_df.dropna(inplace=True)\n",
    "date_prcp_df.sort_index(inplace=True)\n"
   ]
  },
  {
   "cell_type": "code",
   "execution_count": 25,
   "metadata": {},
   "outputs": [
    {
     "data": {
      "image/png": "[encoded data removed]",
      "text/plain": [
       "<Figure size 432x288 with 1 Axes>"
      ]
     },
     "metadata": {},
     "output_type": "display_data"
    }
   ],
   "source": [
    "\n",
    "#Data contains precipitation readings from numerous Oahu weather stations on the same dates.\n",
    "#Use the max precipitation recorded at any weather station on a date as data to plot.abs\n",
    "#Groupby date and take the max precipitaiton reading on that date.\n",
    "date_prcp_max = date_prcp_df.groupby('Date')[['Precipitation']].max()\n",
    "\n",
    "\n",
    "#Plot x index (date) y (max precip on that date)\n",
    "x = date_prcp_max.index\n",
    "y = date_prcp_max['Precipitation']\n",
    "\n",
    "fig, ax = plt.subplots()\n",
    "ax.bar(x, y)\n",
    "\n",
    "#Space x ticks and labels so they are readable\n",
    "ax.set_xticks(x[::40])\n",
    "ax.set_xticklabels(x[::40], rotation=90)\n",
    "plt.ylabel('Inches Precip')\n",
    "plt.title('Max Precip Oahu Weather Stations')\n",
    "plt.show()\n"
   ]
  },
  {
   "cell_type": "code",
   "execution_count": 26,
   "metadata": {},
   "outputs": [
    {
     "name": "stdout",
     "output_type": "stream",
     "text": [
      "       Precipitation\n",
      "count     365.000000\n",
      "mean        0.517288\n",
      "std         0.829196\n",
      "min         0.000000\n",
      "25%         0.040000\n",
      "50%         0.250000\n",
      "75%         0.650000\n",
      "max         6.700000\n"
     ]
    }
   ],
   "source": [
    "#Use Pandas to calcualte the summary statistics for the precipitation data plotted above\n",
    "print(date_prcp_max.describe())"
   ]
  },
  {
   "cell_type": "markdown",
   "metadata": {},
   "source": [
    "## Station Analysis\n",
    "1. Find how many stations are in the data\n",
    "2. Find the weather station with the most number of observations. Temperature data will be used from this station.\n",
    "3. Calc the max, min, and avg temperature for this station.\n",
    "4. Plot histogram of temp readings from this station."
   ]
  },
  {
   "cell_type": "code",
   "execution_count": 27,
   "metadata": {},
   "outputs": [
    {
     "name": "stdout",
     "output_type": "stream",
     "text": [
      "9\n",
      "9\n"
     ]
    }
   ],
   "source": [
    "# Design a query to show how many stations are available in this dataset. Confirm same answer from both tables.\n",
    "stat_cnt_meas = session.query(Measurement.station).group_by(Measurement.station).count()\n",
    "stat_cnt_stat = session.query(Station.station).group_by(Station.station).count()\n",
    "print(stat_cnt_meas)\n",
    "print(stat_cnt_stat)"
   ]
  },
  {
   "cell_type": "code",
   "execution_count": 28,
   "metadata": {},
   "outputs": [
    {
     "name": "stdout",
     "output_type": "stream",
     "text": [
      "List of stations and number of observations = \n",
      "    Station ID  Num Obs\n",
      "0  USC00519281     2772\n",
      "1  USC00519397     2724\n",
      "2  USC00513117     2709\n",
      "3  USC00519523     2669\n",
      "4  USC00516128     2612\n",
      "5  USC00514830     2202\n",
      "6  USC00511918     1979\n",
      "7  USC00517948     1372\n",
      "8  USC00518838      511\n",
      "\n",
      "Station with most observations = USC00519281\n"
     ]
    }
   ],
   "source": [
    "# What are the most active stations? (i.e. what stations have the most rows)?\n",
    "# List the stations and the counts in descending order.\n",
    "stat_freq = session.query(Measurement.station, func.count(Measurement.station)).group_by(Measurement.station).order_by(func.count(Measurement.station).desc()).all()\n",
    "print(\"List of stations and number of observations = \")\n",
    "stat_freq_df = pd.DataFrame(stat_freq, columns = ['Station ID', 'Num Obs'])\n",
    "print(stat_freq_df)\n",
    "\n",
    "\n",
    "#Set variabel for the station id with the most observations\n",
    "max_stat_freq = stat_freq[0][0]\n",
    "print(\"\")\n",
    "print(\"Station with most observations = \"+max_stat_freq)\n"
   ]
  },
  {
   "cell_type": "code",
   "execution_count": 29,
   "metadata": {},
   "outputs": [
    {
     "name": "stdout",
     "output_type": "stream",
     "text": [
      "Max temp\n",
      "('USC00519281', 85.0)\n",
      "Min temp\n",
      "('USC00519281', 54.0)\n",
      "Avg temp\n",
      "('USC00519281', 71.66378066378067)\n"
     ]
    }
   ],
   "source": [
    "# Using the station id from the previous query, calculate the lowest temp recorded, \n",
    "# highest temp recorded, and average temp of the most active station?\n",
    "max_temp_max_stat = session.query(Measurement.station, func.max(Measurement.tobs)).filter(Measurement.station==max_stat_freq).all()\n",
    "min_temp_max_stat = session.query(Measurement.station, func.min(Measurement.tobs)).filter(Measurement.station==max_stat_freq).all()\n",
    "avg_temp_max_stat = session.query(Measurement.station, func.avg(Measurement.tobs)).filter(Measurement.station==max_stat_freq).all()\n",
    "\n",
    "print(\"Max temp\")\n",
    "print(max_temp_max_stat[0])\n",
    "print(\"Min temp\")\n",
    "print(min_temp_max_stat[0])\n",
    "print(\"Avg temp\")\n",
    "print(avg_temp_max_stat[0])\n"
   ]
  },
  {
   "cell_type": "code",
   "execution_count": 30,
   "metadata": {},
   "outputs": [
    {
     "data": {
      "image/png": "[encoded data removed]",
      "text/plain": [
       "<Figure size 432x288 with 1 Axes>"
      ]
     },
     "metadata": {},
     "output_type": "display_data"
    }
   ],
   "source": [
    "# Choose the station with the highest number of temperature observations.\n",
    "# Query the last 12 months of temperature observation data for this station and plot the results as a histogram\n",
    "tobs_query = session.query(Measurement.tobs).\\\n",
    "    filter(Measurement.date<=latest_date_dt).filter(Measurement.date>=year_ago_latest_dt).\\\n",
    "    filter(Measurement.station==max_stat_freq)\n",
    "\n",
    "# Save the query results as a Pandas DataFrame\n",
    "tobs_df = pd.DataFrame(tobs_query, columns=['tobs'])\n",
    "tobs_df.dropna(inplace=True)\n",
    "\n",
    "#Plot histogram of temperature readings at weahter station with the most readings.\n",
    "tobs_df.hist(bins=12)\n",
    "plt.xlabel('Temperature')\n",
    "plt.ylabel('Frequency')\n",
    "plt.title('Temp Distribution at station '+max_stat_freq)\n",
    "plt.show()"
   ]
  },
  {
   "cell_type": "markdown",
   "metadata": {},
   "source": [
    "## Bonus Challenge Assignment\n",
    "## OBJECTIVE: Use past data to get an idea what the temperature and rainfall may be during our future vacation. Look at last years temp and rainfall for those dates as well as the temp on those same dates in all past years.\n",
    "1. Set start and end dates for 'future' trip\n",
    "2. Test function to calc min, max, and avg temperature between 2 dates\n",
    "3. How was the temp last year? - Find and plot min, max, and avg temp for trip dates in prior year\n",
    "4. How was the rain last year? - Find total precipitation at each station during trip dates in prior year\n",
    "5. Test function to get min, max, and avg temp for a given day over all years\n",
    "6. What was the temp like on vaction days in all prior years? - Get min, max, avg temp on same dates over prior years.\n",
    "7. Make table and area chart of 'best guess' temperatures for vacation dates based on past data."
   ]
  },
  {
   "cell_type": "code",
   "execution_count": 31,
   "metadata": {},
   "outputs": [
    {
     "name": "stdout",
     "output_type": "stream",
     "text": [
      "Start date: 2012-02-28, End date: 2012-03-05\n",
      "Min temp: 62.0, Avg temp: 69.57142857142857, Max temp: 74.0\n"
     ]
    }
   ],
   "source": [
    "# This function called `calc_temps` will accept start date and end date in the format '%Y-%m-%d' \n",
    "# and return the minimum, average, and maximum temperatures for that range of dates\n",
    "def calc_temps(start_date, end_date):\n",
    "       \n",
    "    \"\"\"TMIN, TAVG, and TMAX for a list of dates.\n",
    "    \n",
    "    Args:\n",
    "        start_date (string): A date string in the format %Y-%m-%d\n",
    "        end_date (string): A date string in the format %Y-%m-%d\n",
    "        \n",
    "    Returns:\n",
    "        TMIN, TAVE, and TMAX\n",
    "    \"\"\"\n",
    "    \n",
    "    return session.query(func.min(Measurement.tobs), func.avg(Measurement.tobs), func.max(Measurement.tobs)).\\\n",
    "        filter(Measurement.date >= start_date).filter(Measurement.date <= end_date).all()\n",
    "\n",
    "# function usage example\n",
    "start_date = '2012-02-28'\n",
    "end_date = '2012-03-05'\n",
    "min_temp_orig = calc_temps(start_date, end_date)[0][0]\n",
    "avg_temp_orig = calc_temps(start_date, end_date)[0][1]\n",
    "maxi_temp_orig = calc_temps(start_date, end_date)[0][2]\n",
    "print(f'Start date: {start_date}, End date: {end_date}')\n",
    "print(f'Min temp: {min_temp_orig}, Avg temp: {avg_temp_orig}, Max temp: {maxi_temp_orig}')"
   ]
  },
  {
   "cell_type": "code",
   "execution_count": 32,
   "metadata": {},
   "outputs": [
    {
     "name": "stdout",
     "output_type": "stream",
     "text": [
      "Start date: 2017-01-01, End date: 2017-01-07\n",
      "Min temp: 62.0, Avg temp: 68.36585365853658, Max temp: 74.0\n"
     ]
    }
   ],
   "source": [
    "# Use your previous function `calc_temps` to calculate the tmin, tavg, and tmax \n",
    "# for your trip using the previous year's data for those same dates.\n",
    "trip_prior_year_start = str(int(trip_start[:4])-1)+trip_start[4:]\n",
    "trip_prior_year_end = str(int(trip_end[:4])-1)+trip_end[4:]\n",
    "\n",
    "min_temp_prior, avg_temp_prior, max_temp_prior = calc_temps(trip_prior_year_start, trip_prior_year_end)[0]\n",
    "\n",
    "print(f'Start date: {trip_prior_year_start}, End date: {trip_prior_year_end}')\n",
    "print(f'Min temp: {min_temp_prior}, Avg temp: {avg_temp_prior}, Max temp: {max_temp_prior}')"
   ]
  },
  {
   "cell_type": "code",
   "execution_count": 33,
   "metadata": {},
   "outputs": [
    {
     "data": {
      "image/png": "[encoded data removed]",
      "text/plain": [
       "<Figure size 105x210 with 1 Axes>"
      ]
     },
     "metadata": {},
     "output_type": "display_data"
    }
   ],
   "source": [
    "# Plot the results from your previous query as a bar chart. \n",
    "# Use \"Trip Avg Temp\" as your Title\n",
    "# Use the average temperature for the y value\n",
    "# Use the peak-to-peak (tmax-tmin) value as the y error bar (yerr)\n",
    "yerror = (max_temp_prior - min_temp_prior)/2\n",
    "\n",
    "w = 1.5\n",
    "h = 3\n",
    "d = 70\n",
    "plt.figure(figsize=(w, h), dpi=d)\n",
    "means = (avg_temp_prior)\n",
    "positions = [0]\n",
    "std = (yerror)\n",
    "plt.bar(positions, means, color=\"g\", yerr=std)\n",
    "plt.tick_params(axis='x', which='both', bottom=False, top=False, labelbottom=False)\n",
    "plt.ylabel('Temp (F)')\n",
    "plt.title('Trip Avg Temp')\n",
    "plt.ylim(0,100)\n",
    "plt.show()"
   ]
  },
  {
   "cell_type": "code",
   "execution_count": 34,
   "metadata": {},
   "outputs": [
    {
     "data": {
      "text/html": [
       "<div>\n",
       "<style scoped>\n",
       "    .dataframe tbody tr th:only-of-type {\n",
       "        vertical-align: middle;\n",
       "    }\n",
       "\n",
       "    .dataframe tbody tr th {\n",
       "        vertical-align: top;\n",
       "    }\n",
       "\n",
       "    .dataframe thead th {\n",
       "        text-align: right;\n",
       "    }\n",
       "</style>\n",
       "<table border=\"1\" class=\"dataframe\">\n",
       "  <thead>\n",
       "    <tr style=\"text-align: right;\">\n",
       "      <th></th>\n",
       "      <th>station</th>\n",
       "      <th>name</th>\n",
       "      <th>latitude</th>\n",
       "      <th>longitude</th>\n",
       "      <th>elevation</th>\n",
       "      <th>tot prcp</th>\n",
       "    </tr>\n",
       "  </thead>\n",
       "  <tbody>\n",
       "    <tr>\n",
       "      <th>0</th>\n",
       "      <td>USC00519523</td>\n",
       "      <td>WAIMANALO EXPERIMENTAL FARM, HI US</td>\n",
       "      <td>21.33556</td>\n",
       "      <td>-157.71139</td>\n",
       "      <td>19.5</td>\n",
       "      <td>0.61</td>\n",
       "    </tr>\n",
       "    <tr>\n",
       "      <th>1</th>\n",
       "      <td>USC00516128</td>\n",
       "      <td>MANOA LYON ARBO 785.2, HI US</td>\n",
       "      <td>21.33310</td>\n",
       "      <td>-157.80250</td>\n",
       "      <td>152.4</td>\n",
       "      <td>0.60</td>\n",
       "    </tr>\n",
       "    <tr>\n",
       "      <th>2</th>\n",
       "      <td>USC00514830</td>\n",
       "      <td>KUALOA RANCH HEADQUARTERS 886.9, HI US</td>\n",
       "      <td>21.52130</td>\n",
       "      <td>-157.83740</td>\n",
       "      <td>7.0</td>\n",
       "      <td>0.60</td>\n",
       "    </tr>\n",
       "    <tr>\n",
       "      <th>3</th>\n",
       "      <td>USC00513117</td>\n",
       "      <td>KANEOHE 838.1, HI US</td>\n",
       "      <td>21.42340</td>\n",
       "      <td>-157.80150</td>\n",
       "      <td>14.6</td>\n",
       "      <td>0.35</td>\n",
       "    </tr>\n",
       "    <tr>\n",
       "      <th>4</th>\n",
       "      <td>USC00519281</td>\n",
       "      <td>WAIHEE 837.5, HI US</td>\n",
       "      <td>21.45167</td>\n",
       "      <td>-157.84889</td>\n",
       "      <td>32.9</td>\n",
       "      <td>0.20</td>\n",
       "    </tr>\n",
       "    <tr>\n",
       "      <th>5</th>\n",
       "      <td>USC00519397</td>\n",
       "      <td>WAIKIKI 717.2, HI US</td>\n",
       "      <td>21.27160</td>\n",
       "      <td>-157.81680</td>\n",
       "      <td>3.0</td>\n",
       "      <td>0.00</td>\n",
       "    </tr>\n",
       "  </tbody>\n",
       "</table>\n",
       "</div>"
      ],
      "text/plain": [
       "       station                                    name  latitude  longitude  \\\n",
       "0  USC00519523      WAIMANALO EXPERIMENTAL FARM, HI US  21.33556 -157.71139   \n",
       "1  USC00516128            MANOA LYON ARBO 785.2, HI US  21.33310 -157.80250   \n",
       "2  USC00514830  KUALOA RANCH HEADQUARTERS 886.9, HI US  21.52130 -157.83740   \n",
       "3  USC00513117                    KANEOHE 838.1, HI US  21.42340 -157.80150   \n",
       "4  USC00519281                     WAIHEE 837.5, HI US  21.45167 -157.84889   \n",
       "5  USC00519397                    WAIKIKI 717.2, HI US  21.27160 -157.81680   \n",
       "\n",
       "   elevation  tot prcp  \n",
       "0       19.5      0.61  \n",
       "1      152.4      0.60  \n",
       "2        7.0      0.60  \n",
       "3       14.6      0.35  \n",
       "4       32.9      0.20  \n",
       "5        3.0      0.00  "
      ]
     },
     "execution_count": 34,
     "metadata": {},
     "output_type": "execute_result"
    }
   ],
   "source": [
    "# Calculate the total amount of rainfall per weather station for your trip dates using the previous year's matching dates.\n",
    "# Sort this in descending order by precipitation amount and list the station, name, latitude, longitude, and elevation\n",
    "\n",
    "stat_prcp_dates = session.query(Measurement.station, Station.name, Station.latitude, Station.longitude, Station.elevation, func.sum(Measurement.prcp)).join(Station, Station.station == Measurement.station).group_by(Measurement.station).filter(Measurement.date >= trip_prior_year_start).filter(Measurement.date <= trip_prior_year_end).order_by(func.sum(Measurement.prcp).desc()).all()\n",
    "\n",
    "stat_prcp_dates_df = pd.DataFrame(stat_prcp_dates, columns = ['station', 'name', 'latitude', 'longitude', 'elevation', 'tot prcp'])\n",
    "stat_prcp_dates_df"
   ]
  },
  {
   "cell_type": "code",
   "execution_count": 35,
   "metadata": {},
   "outputs": [
    {
     "data": {
      "text/plain": [
       "[(62.0, 69.15384615384616, 77.0)]"
      ]
     },
     "execution_count": 35,
     "metadata": {},
     "output_type": "execute_result"
    }
   ],
   "source": [
    "# Create a query that will calculate the daily normals \n",
    "# (i.e. the averages for tmin, tmax, and tavg for all historic data matching a specific month and day)\n",
    "\n",
    "def daily_normals(date):\n",
    "    \"\"\"Daily Normals.\n",
    "    \n",
    "    Args:\n",
    "        date (str): A date string in the format '%m-%d'\n",
    "        \n",
    "    Returns:\n",
    "        A list of tuples containing the daily normals, tmin, tavg, and tmax\n",
    "    \n",
    "    \"\"\"\n",
    "    \n",
    "    sel = [func.min(Measurement.tobs), func.avg(Measurement.tobs), func.max(Measurement.tobs)]\n",
    "    return session.query(*sel).filter(func.strftime(\"%m-%d\", Measurement.date) == date).all()\n",
    "    \n",
    "daily_normals(\"01-01\")"
   ]
  },
  {
   "cell_type": "code",
   "execution_count": 36,
   "metadata": {},
   "outputs": [
    {
     "name": "stdout",
     "output_type": "stream",
     "text": [
      "[(62.0, 69.15384615384616, 77.0), (60.0, 69.39622641509433, 77.0), (62.0, 68.9090909090909, 77.0), (58.0, 70.0, 76.0), (56.0, 67.96428571428571, 76.0), (61.0, 68.96491228070175, 76.0), (57.0, 68.54385964912281, 76.0)]\n",
      "['2018-01-01', '2018-01-02', '2018-01-03', '2018-01-04', '2018-01-05', '2018-01-06', '2018-01-07']\n"
     ]
    }
   ],
   "source": [
    "# calculate the daily normals for your trip\n",
    "# push each tuple of calculations into a list called `normals`\n",
    "\n",
    "# Set the start and end date of the trip\n",
    "\n",
    "start_date_dt = dt.datetime.strptime(trip_start, \"%Y-%m-%d\")\n",
    "end_date_dt = dt.datetime.strptime(trip_end, \"%Y-%m-%d\")\n",
    "\n",
    "normals_list = []\n",
    "dates_list = []\n",
    "\n",
    "ddd = start_date_dt\n",
    "while ddd<=end_date_dt:\n",
    "    xxx = dt.datetime.strftime(ddd, \"%m-%d\")\n",
    "    yyy = dt.datetime.strftime(ddd, \"%Y-%m-%d\")\n",
    "    nnn = daily_normals(xxx)\n",
    "    normals_list.append(nnn[0])\n",
    "    dates_list.append(yyy)\n",
    "    ddd = ddd + dt.timedelta(days=1)\n",
    "\n",
    "print(normals_list)\n",
    "print(dates_list)\n",
    "\n",
    "# Use the start and end date to create a range of dates\n",
    "\n",
    "# Stip off the year and save a list of %m-%d strings\n",
    "\n",
    "# Loop through the list of %m-%d strings and calculate the normals for each date\n"
   ]
  },
  {
   "cell_type": "code",
   "execution_count": 37,
   "metadata": {},
   "outputs": [
    {
     "data": {
      "text/html": [
       "<div>\n",
       "<style scoped>\n",
       "    .dataframe tbody tr th:only-of-type {\n",
       "        vertical-align: middle;\n",
       "    }\n",
       "\n",
       "    .dataframe tbody tr th {\n",
       "        vertical-align: top;\n",
       "    }\n",
       "\n",
       "    .dataframe thead th {\n",
       "        text-align: right;\n",
       "    }\n",
       "</style>\n",
       "<table border=\"1\" class=\"dataframe\">\n",
       "  <thead>\n",
       "    <tr style=\"text-align: right;\">\n",
       "      <th></th>\n",
       "      <th>min</th>\n",
       "      <th>avg</th>\n",
       "      <th>max</th>\n",
       "    </tr>\n",
       "    <tr>\n",
       "      <th>trip_dates</th>\n",
       "      <th></th>\n",
       "      <th></th>\n",
       "      <th></th>\n",
       "    </tr>\n",
       "  </thead>\n",
       "  <tbody>\n",
       "    <tr>\n",
       "      <th>2018-01-01</th>\n",
       "      <td>62.0</td>\n",
       "      <td>69.153846</td>\n",
       "      <td>77.0</td>\n",
       "    </tr>\n",
       "    <tr>\n",
       "      <th>2018-01-02</th>\n",
       "      <td>60.0</td>\n",
       "      <td>69.396226</td>\n",
       "      <td>77.0</td>\n",
       "    </tr>\n",
       "    <tr>\n",
       "      <th>2018-01-03</th>\n",
       "      <td>62.0</td>\n",
       "      <td>68.909091</td>\n",
       "      <td>77.0</td>\n",
       "    </tr>\n",
       "    <tr>\n",
       "      <th>2018-01-04</th>\n",
       "      <td>58.0</td>\n",
       "      <td>70.000000</td>\n",
       "      <td>76.0</td>\n",
       "    </tr>\n",
       "    <tr>\n",
       "      <th>2018-01-05</th>\n",
       "      <td>56.0</td>\n",
       "      <td>67.964286</td>\n",
       "      <td>76.0</td>\n",
       "    </tr>\n",
       "    <tr>\n",
       "      <th>2018-01-06</th>\n",
       "      <td>61.0</td>\n",
       "      <td>68.964912</td>\n",
       "      <td>76.0</td>\n",
       "    </tr>\n",
       "    <tr>\n",
       "      <th>2018-01-07</th>\n",
       "      <td>57.0</td>\n",
       "      <td>68.543860</td>\n",
       "      <td>76.0</td>\n",
       "    </tr>\n",
       "  </tbody>\n",
       "</table>\n",
       "</div>"
      ],
      "text/plain": [
       "             min        avg   max\n",
       "trip_dates                       \n",
       "2018-01-01  62.0  69.153846  77.0\n",
       "2018-01-02  60.0  69.396226  77.0\n",
       "2018-01-03  62.0  68.909091  77.0\n",
       "2018-01-04  58.0  70.000000  76.0\n",
       "2018-01-05  56.0  67.964286  76.0\n",
       "2018-01-06  61.0  68.964912  76.0\n",
       "2018-01-07  57.0  68.543860  76.0"
      ]
     },
     "execution_count": 37,
     "metadata": {},
     "output_type": "execute_result"
    }
   ],
   "source": [
    "# Load the previous query results into a Pandas DataFrame and add the `trip_dates` range as the `date` index\n",
    "normals_df = pd.DataFrame(normals_list, columns = ['min', 'avg', 'max'], index = dates_list)\n",
    "normals_df.index.name = 'trip_dates'\n",
    "normals_df"
   ]
  },
  {
   "cell_type": "code",
   "execution_count": 38,
   "metadata": {},
   "outputs": [
    {
     "data": {
      "image/png": "[encoded data removed]",
      "text/plain": [
       "<Figure size 432x288 with 1 Axes>"
      ]
     },
     "metadata": {},
     "output_type": "display_data"
    }
   ],
   "source": [
    "# Plot the daily normals as an area plot with `stacked=False`\n",
    "normals_df.plot.area(stacked=False, rot = 45)\n",
    "plt.xlabel('Trip Dates')\n",
    "plt.ylabel('Temperature')\n",
    "plt.show()"
   ]
  },
  {
   "cell_type": "code",
   "execution_count": null,
   "metadata": {},
   "outputs": [],
   "source": []
  }
 ],
 "metadata": {
  "kernel_info": {
   "name": "python3"
  },
  "kernelspec": {
   "display_name": "Python 3.6.10 64-bit ('PythonData': conda)",
   "language": "python",
   "name": "python361064bitpythondatacondaab47c43dfe824d4eb95e9e8f15b48370"
  },
  "language_info": {
   "codemirror_mode": {
    "name": "ipython",
    "version": 3
   },
   "file_extension": ".py",
   "mimetype": "text/x-python",
   "name": "python",
   "nbconvert_exporter": "python",
   "pygments_lexer": "ipython3",
   "version": "3.6.10"
  },
  "nteract": {
   "version": "0.12.3"
  },
  "varInspector": {
   "cols": {
    "lenName": 16,
    "lenType": 16,
    "lenVar": 40
   },
   "kernels_config": {
    "python": {
     "delete_cmd_postfix": "",
     "delete_cmd_prefix": "del ",
     "library": "var_list.py",
     "varRefreshCmd": "print(var_dic_list())"
    },
    "r": {
     "delete_cmd_postfix": ") ",
     "delete_cmd_prefix": "rm(",
     "library": "var_list.r",
     "varRefreshCmd": "cat(var_dic_list()) "
    }
   },
   "types_to_exclude": [
    "module",
    "function",
    "builtin_function_or_method",
    "instance",
    "_Feature"
   ],
   "window_display": false
  }
 },
 "nbformat": 4,
 "nbformat_minor": 2
}
